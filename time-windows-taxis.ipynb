{
 "cells": [
  {
   "cell_type": "code",
   "execution_count": 1,
   "id": "08535994",
   "metadata": {},
   "outputs": [],
   "source": [
    "import pyspark\n",
    "from pyspark.sql import SparkSession\n",
    "\n",
    "#Starting Spark Session\n",
    "spark = SparkSession.builder.getOrCreate()\n"
   ]
  },
  {
   "cell_type": "code",
   "execution_count": 2,
   "id": "f32098fe",
   "metadata": {},
   "outputs": [],
   "source": [
    "import pyspark.sql.functions as F\n",
    "from pyspark.sql.types import *\n",
    "\n",
    "#Getting Borough data\n",
    "borough_data = spark.read.csv('data/taxi _zone_lookup.csv', header=True)\n",
    "\n",
    "\n",
    "#Get yellow taxis trip data from 2020\n",
    "taxis_trips = spark.read.csv('data/tripdata/', header=True)\n",
    "\n",
    "def get_month(value):\n",
    "  return value.split(\"-\")[1]\n",
    "    \n",
    "    \n",
    "#Convert to a UDF Function (parameters: the function and its return type)\n",
    "udf_get_month = F.udf(get_month, StringType())\n",
    "\n",
    "#Add Month column to the dataset\n",
    "trips = taxis_trips.withColumn(\"Month\", udf_get_month(\"tpep_pickup_datetime\"))\n"
   ]
  },
  {
   "cell_type": "code",
   "execution_count": 3,
   "id": "33c402c1",
   "metadata": {},
   "outputs": [],
   "source": [
    "#Join trip info with borough data\n",
    "borough_trips = trips.join(borough_data, trips.PULocationID == borough_data.LocationID)\n",
    "#borough_trips.show()"
   ]
  },
  {
   "cell_type": "code",
   "execution_count": 4,
   "id": "d52e527b",
   "metadata": {},
   "outputs": [],
   "source": [
    "#Casting passenger_count to Integer, since it is string\n",
    "casted_df = borough_trips.withColumn(\"passenger_count\", borough_trips.passenger_count.cast(IntegerType()))\n",
    "\n",
    "#Grouping by month and summing the number os passengers\n",
    "#casted_df.groupBy(\"Month\").agg(F.sum('passenger_count').alias('Passengers')).orderBy(\"Passengers\").show()"
   ]
  },
  {
   "cell_type": "markdown",
   "id": "6e3bff1b",
   "metadata": {},
   "source": [
    "## Janelas de tempo - viagens com mais passageiros"
   ]
  },
  {
   "cell_type": "code",
   "execution_count": 5,
   "id": "8951858c",
   "metadata": {},
   "outputs": [
    {
     "name": "stdout",
     "output_type": "stream",
     "text": [
      "+--------------------+---------------------+---------+---------------+----------+--------+\n",
      "|tpep_pickup_datetime|tpep_dropoff_datetime|  Borough|passenger_count|start_hour|end_hour|\n",
      "+--------------------+---------------------+---------+---------------+----------+--------+\n",
      "| 2020-11-01 00:37:37|  2020-11-01 00:51:45|Manhattan|              1|         0|       0|\n",
      "| 2020-11-01 00:17:41|  2020-11-01 00:32:22|Manhattan|              2|         0|       0|\n",
      "| 2020-11-01 00:42:29|  2020-11-01 01:09:08|Manhattan|              2|         0|       1|\n",
      "| 2020-11-01 00:28:59|  2020-11-02 00:00:00|   Queens|              1|         0|       0|\n",
      "| 2020-11-01 00:13:26|  2020-11-01 00:22:59|Manhattan|              1|         0|       0|\n",
      "| 2020-11-01 00:09:36|  2020-11-01 00:20:55|Manhattan|              1|         0|       0|\n",
      "| 2020-10-31 23:57:50|  2020-11-01 00:28:08|   Queens|              1|        23|       0|\n",
      "| 2020-11-01 00:32:28|  2020-11-01 00:47:34|Manhattan|              1|         0|       0|\n",
      "| 2020-11-01 00:11:49|  2020-11-01 00:16:36|Manhattan|              1|         0|       0|\n",
      "| 2020-11-01 00:41:32|  2020-11-01 00:58:10|Manhattan|              1|         0|       0|\n",
      "| 2020-11-01 00:21:02|  2020-11-01 00:30:15|Manhattan|              1|         0|       0|\n",
      "| 2020-11-01 00:33:42|  2020-11-01 01:01:20|Manhattan|              2|         0|       1|\n",
      "| 2020-11-01 00:17:10|  2020-11-01 00:21:47|Manhattan|              2|         0|       0|\n",
      "| 2020-11-01 00:18:50|  2020-11-01 00:23:27|Manhattan|              3|         0|       0|\n",
      "| 2020-11-01 00:02:40|  2020-11-01 00:09:04|Manhattan|              1|         0|       0|\n",
      "| 2020-11-01 00:22:08|  2020-11-01 00:29:28|Manhattan|              1|         0|       0|\n",
      "| 2020-11-01 00:42:40|  2020-11-01 00:45:52|Manhattan|              1|         0|       0|\n",
      "| 2020-11-01 00:56:44|  2020-11-01 01:00:31|Manhattan|              1|         0|       1|\n",
      "| 2020-11-01 00:27:14|  2020-11-01 00:31:14|Manhattan|              2|         0|       0|\n",
      "| 2020-11-01 00:51:39|  2020-11-01 00:58:29|Manhattan|              1|         0|       0|\n",
      "+--------------------+---------------------+---------+---------------+----------+--------+\n",
      "only showing top 20 rows\n",
      "\n"
     ]
    }
   ],
   "source": [
    "from pyspark.sql.window import Window\n",
    "from pyspark.sql.functions import row_number, col\n",
    "\n",
    "windowSpec  = Window.partitionBy(\"Borough\").orderBy(col(\"passenger_count\").desc())\n",
    "start_end_times_df = casted_df.select(col(\"tpep_pickup_datetime\").cast(\"timestamp\"), \\\n",
    "                                   col(\"tpep_dropoff_datetime\").cast(\"timestamp\"), \\\n",
    "                                   col(\"Borough\"),col(\"passenger_count\"))\n",
    "\n",
    "   \n",
    "#Convert to a UDF Function (parameters: the function and its return type)\n",
    "udf_hour = F.udf(lambda x: x.hour, IntegerType())\n",
    "\n",
    "#Add start_time and end_time columns to the dataframe\n",
    "start_end_times_df = start_end_times_df.withColumn(\"start_hour\", udf_hour(\"tpep_pickup_datetime\"))\n",
    "start_end_times_df = start_end_times_df.withColumn(\"end_hour\", udf_hour(\"tpep_dropoff_datetime\"))\n",
    "start_end_times_df.show()\n"
   ]
  },
  {
   "cell_type": "code",
   "execution_count": 56,
   "id": "ad387b4e",
   "metadata": {},
   "outputs": [],
   "source": [
    "import matplotlib.pyplot as plt\n",
    "import pandas as pd\n",
    "import numpy as np\n",
    "\n",
    "def set_labels_title(ax, number, window):\n",
    "    title = \"Boroughs with biggest number of passengers - \" + window + \" window\"\n",
    "    ax.set_ylabel('Boroughs')  # Add a y-label to the axes.\n",
    "    ax.set_title(title)  # Add a title to the axes.\n",
    "\n",
    "\n"
   ]
  },
  {
   "cell_type": "markdown",
   "id": "9e3cb47a",
   "metadata": {},
   "source": [
    "## Janela de tempo: 0 às 5h"
   ]
  },
  {
   "cell_type": "code",
   "execution_count": 20,
   "id": "a66a73df",
   "metadata": {},
   "outputs": [],
   "source": [
    "range_zero_to_five = start_end_times_df.filter((col('start_hour') >= 0) & (col('start_hour') < 5) & (col('end_hour') < 5))\n",
    "\n",
    "#from pyspark.sql.window import Window\n",
    "from pyspark.sql.functions import col, row_number\n",
    "\n",
    "#window_borough = Window.partitionBy(\"Borough\").orderBy(col(\"passenger_count\").desc())\n",
    "\n",
    "#range_zero_to_five = range_zero_to_five.withColumn(\"row\",row_number().over(window_borough)) \\\n",
    "#  .filter(col(\"row\") <= 10) \n",
    "\n",
    "#range_zero_to_five.show()\n",
    "\n",
    "result = range_zero_to_five.groupBy(\"Borough\").agg(F.sum(\"passenger_count\").alias(\"total_passengers\")).orderBy(col(\"total_passengers\").desc())\n"
   ]
  },
  {
   "cell_type": "code",
   "execution_count": 57,
   "id": "b8f75dfc",
   "metadata": {},
   "outputs": [],
   "source": [
    "result_df = result.toPandas()\n"
   ]
  },
  {
   "cell_type": "code",
   "execution_count": 58,
   "id": "7348ae8a",
   "metadata": {},
   "outputs": [
    {
     "name": "stdout",
     "output_type": "stream",
     "text": [
      "   index        Borough  total_passengers\n",
      "0      0      Manhattan           1996020\n",
      "1      1         Queens            109293\n",
      "2      2       Brooklyn             41983\n",
      "3      3        Unknown             18670\n",
      "4      4          Bronx              7396\n",
      "5      5  Staten Island               329\n",
      "6      6            EWR               150\n"
     ]
    },
    {
     "name": "stderr",
     "output_type": "stream",
     "text": [
      "<ipython-input-58-4f4fa22b6e7a>:14: UserWarning: FixedFormatter should only be used together with FixedLocator\n",
      "  ax.set_xticklabels(count_list)\n"
     ]
    },
    {
     "data": {
      "image/png": "[encoded data removed]",
      "text/plain": [
       "<Figure size 432x288 with 1 Axes>"
      ]
     },
     "metadata": {
      "needs_background": "light"
     },
     "output_type": "display_data"
    }
   ],
   "source": [
    "\n",
    "count_list = result_df[\"total_passengers\"].tolist()\n",
    "count_list.reverse()\n",
    "\n",
    "borough_list = result_df[\"Borough\"].tolist()\n",
    "borough_list.reverse()\n",
    "\n",
    "y_pos = np.arange(len(borough_list))\n",
    "result_df = result_df.reset_index()\n",
    "print(result_df)\n",
    "\n",
    "ax = result_df.plot(kind='barh',x='total_passengers', y='index')\n",
    "ax.set_yticks(y_pos)\n",
    "ax.set_yticklabels(borough_list)\n",
    "ax.set_xticklabels(count_list)\n",
    "set_labels_title(ax, 1, \"0-5h\")\n"
   ]
  },
  {
   "cell_type": "markdown",
   "id": "c784ef9e",
   "metadata": {},
   "source": [
    "## Janela de tempo: 5h às 11h"
   ]
  },
  {
   "cell_type": "code",
   "execution_count": null,
   "id": "0461f09a",
   "metadata": {},
   "outputs": [],
   "source": [
    "\n",
    "range_five_to_eleven = start_end_times_df.filter((col('start_hour') >= 5) & (col('start_hour') < 11) & (col('end_hour') < 11))\n",
    "\n",
    "result2 = range_five_to_eleven.groupBy(\"Borough\").agg(F.sum(\"passenger_count\").alias(\"total_passengers\")).orderBy(col(\"total_passengers\").desc())\n",
    "\n",
    "#result2_df = result2.toPandas()\n",
    "#ax = result2_df.plot(kind='bar',x='total_passengers', y='Borough')\n",
    "#set_labels_title(ax, 1)\n"
   ]
  },
  {
   "cell_type": "markdown",
   "id": "db63ee7f",
   "metadata": {},
   "source": [
    "## Janela de tempo: 11h às 14h"
   ]
  },
  {
   "cell_type": "code",
   "execution_count": null,
   "id": "1c54cd07",
   "metadata": {},
   "outputs": [],
   "source": [
    "range_eleven_to_fourteen = start_end_times_df.filter((col('start_hour') >= 11) & (col('start_hour') < 14) & (col('end_hour') < 14))\n",
    "\n",
    "#result3 = range_eleven_to_fourteen.groupBy(\"Borough\").agg(F.sum(\"passenger_count\").alias(\"total_passengers\")).orderBy(col(\"total_passengers\").desc())\n",
    "\n",
    "#result3_df = result3.toPandas()\n",
    "#ax = result3_df.plot(kind='bar',x='total_passengers', y='Borough')\n",
    "#set_labels_title(ax, 1)\n"
   ]
  },
  {
   "cell_type": "markdown",
   "id": "905507bd",
   "metadata": {},
   "source": [
    "## Janela de tempo: 14h às 17h"
   ]
  },
  {
   "cell_type": "code",
   "execution_count": null,
   "id": "1bcbe378",
   "metadata": {},
   "outputs": [],
   "source": [
    "range_fourteen_to_seventeen = start_end_times_df.filter((col('start_hour') >= 14) & (col('start_hour') < 17) & (col('end_hour') < 17))\n",
    "\n",
    "#result4_df = result4.toPandas()\n",
    "#ax = result4_df.plot(kind='bar',x='total_passengers', y='Borough')\n",
    "#set_labels_title(ax, 1)\n"
   ]
  },
  {
   "cell_type": "markdown",
   "id": "e1d13b01",
   "metadata": {},
   "source": [
    "## Janela de tempo: 17h às 21h"
   ]
  },
  {
   "cell_type": "code",
   "execution_count": null,
   "id": "5ce03496",
   "metadata": {},
   "outputs": [],
   "source": [
    "range_seventeen_twenty_one = start_end_times_df.filter((col('start_hour') >= 17) & (col('start_hour') < 21) & (col('end_hour') < 21))"
   ]
  },
  {
   "cell_type": "markdown",
   "id": "b85c1200",
   "metadata": {},
   "source": [
    "## Janela de tempo: 21h às 24h"
   ]
  },
  {
   "cell_type": "code",
   "execution_count": null,
   "id": "a5825657",
   "metadata": {},
   "outputs": [],
   "source": [
    "range_twenty_one_twenty_four = start_end_times_df.filter((col('start_hour') >= 21) & (col('start_hour') < 24) & (col('end_hour') < 24))"
   ]
  },
  {
   "cell_type": "code",
   "execution_count": null,
   "id": "d75c68de",
   "metadata": {},
   "outputs": [],
   "source": []
  },
  {
   "cell_type": "code",
   "execution_count": null,
   "id": "b4ed73a1",
   "metadata": {},
   "outputs": [],
   "source": []
  }
 ],
 "metadata": {
  "kernelspec": {
   "display_name": "Python 3",
   "language": "python",
   "name": "python3"
  },
  "language_info": {
   "codemirror_mode": {
    "name": "ipython",
    "version": 3
   },
   "file_extension": ".py",
   "mimetype": "text/x-python",
   "name": "python",
   "nbconvert_exporter": "python",
   "pygments_lexer": "ipython3",
   "version": "3.9.4"
  }
 },
 "nbformat": 4,
 "nbformat_minor": 5
}
