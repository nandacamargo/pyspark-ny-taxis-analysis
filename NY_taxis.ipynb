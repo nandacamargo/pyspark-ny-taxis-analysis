{
 "cells": [
  {
   "cell_type": "code",
   "execution_count": 1,
   "id": "15e49095",
   "metadata": {},
   "outputs": [],
   "source": [
    "import pyspark\n",
    "from pyspark.sql import SparkSession\n",
    "\n",
    "#Starting Spark Session\n",
    "spark = SparkSession.builder.getOrCreate()\n",
    "\n"
   ]
  },
  {
   "cell_type": "code",
   "execution_count": 3,
   "id": "cd481c3b",
   "metadata": {},
   "outputs": [
    {
     "name": "stdout",
     "output_type": "stream",
     "text": [
      "+----------+-------------+--------------------+------------+\n",
      "|LocationID|      Borough|                Zone|service_zone|\n",
      "+----------+-------------+--------------------+------------+\n",
      "|         1|          EWR|      Newark Airport|         EWR|\n",
      "|         2|       Queens|         Jamaica Bay|   Boro Zone|\n",
      "|         3|        Bronx|Allerton/Pelham G...|   Boro Zone|\n",
      "|         4|    Manhattan|       Alphabet City| Yellow Zone|\n",
      "|         5|Staten Island|       Arden Heights|   Boro Zone|\n",
      "|         6|Staten Island|Arrochar/Fort Wad...|   Boro Zone|\n",
      "|         7|       Queens|             Astoria|   Boro Zone|\n",
      "|         8|       Queens|        Astoria Park|   Boro Zone|\n",
      "|         9|       Queens|          Auburndale|   Boro Zone|\n",
      "|        10|       Queens|        Baisley Park|   Boro Zone|\n",
      "|        11|     Brooklyn|          Bath Beach|   Boro Zone|\n",
      "|        12|    Manhattan|        Battery Park| Yellow Zone|\n",
      "|        13|    Manhattan|   Battery Park City| Yellow Zone|\n",
      "|        14|     Brooklyn|           Bay Ridge|   Boro Zone|\n",
      "|        15|       Queens|Bay Terrace/Fort ...|   Boro Zone|\n",
      "|        16|       Queens|             Bayside|   Boro Zone|\n",
      "|        17|     Brooklyn|             Bedford|   Boro Zone|\n",
      "|        18|        Bronx|        Bedford Park|   Boro Zone|\n",
      "|        19|       Queens|           Bellerose|   Boro Zone|\n",
      "|        20|        Bronx|             Belmont|   Boro Zone|\n",
      "+----------+-------------+--------------------+------------+\n",
      "only showing top 20 rows\n",
      "\n"
     ]
    }
   ],
   "source": [
    "#Getting Borough data\n",
    "borough_data = spark.read.csv('data/taxi _zone_lookup.csv', header=True)\n",
    "borough_data.show()\n"
   ]
  },
  {
   "cell_type": "code",
   "execution_count": 4,
   "id": "8fed75f2",
   "metadata": {},
   "outputs": [
    {
     "name": "stdout",
     "output_type": "stream",
     "text": [
      "+--------+--------------------+---------------------+---------------+-------------+----------+------------------+------------+------------+------------+-----------+-----+-------+----------+------------+---------------------+------------+--------------------+-----+\n",
      "|VendorID|tpep_pickup_datetime|tpep_dropoff_datetime|passenger_count|trip_distance|RatecodeID|store_and_fwd_flag|PULocationID|DOLocationID|payment_type|fare_amount|extra|mta_tax|tip_amount|tolls_amount|improvement_surcharge|total_amount|congestion_surcharge|Month|\n",
      "+--------+--------------------+---------------------+---------------+-------------+----------+------------------+------------+------------+------------+-----------+-----+-------+----------+------------+---------------------+------------+--------------------+-----+\n",
      "|       1| 2020-11-01 00:37:37|  2020-11-01 00:51:45|              1|         1.80|         1|                 N|         246|         137|           1|         10|    3|    0.5|       4.1|           0|                  0.3|        17.9|                 2.5|   11|\n",
      "|       1| 2020-11-01 00:17:41|  2020-11-01 00:32:22|              2|         2.80|         1|                 Y|         229|           4|           2|       11.5|    3|    0.5|         0|           0|                  0.3|        15.3|                 2.5|   11|\n",
      "|       1| 2020-11-01 00:42:29|  2020-11-01 01:09:08|              2|         8.10|         1|                 N|         144|          83|           1|         27|    3|    0.5|         2|           0|                  0.3|        32.8|                 2.5|   11|\n",
      "|       2| 2020-11-01 00:28:59|  2020-11-02 00:00:00|              1|         6.38|         1|                 N|         132|         205|           2|         22|  0.5|    0.5|         0|           0|                  0.3|        23.3|                   0|   11|\n",
      "|       2| 2020-11-01 00:13:26|  2020-11-01 00:22:59|              1|         1.96|         1|                 N|         166|          42|           2|          9|  0.5|    0.5|         0|           0|                  0.3|        10.3|                   0|   11|\n",
      "|       2| 2020-11-01 00:09:36|  2020-11-01 00:20:55|              1|         2.59|         1|                 N|          48|         140|           1|       10.5|  0.5|    0.5|       1.7|           0|                  0.3|          16|                 2.5|   11|\n",
      "|       2| 2020-10-31 23:57:50|  2020-11-01 00:28:08|              1|        18.86|         2|                 N|         132|          75|           1|         52|    0|    0.5|     10.61|        6.12|                  0.3|       69.53|                   0|   10|\n",
      "|       2| 2020-11-01 00:32:28|  2020-11-01 00:47:34|              1|         5.44|         1|                 N|         236|          83|           2|         17|  0.5|    0.5|         0|           0|                  0.3|        20.8|                 2.5|   11|\n",
      "|       2| 2020-11-01 00:11:49|  2020-11-01 00:16:36|              1|          .46|         1|                 N|          75|          75|           2|          5|  0.5|    0.5|         0|           0|                  0.3|         6.3|                   0|   11|\n",
      "|       2| 2020-11-01 00:41:32|  2020-11-01 00:58:10|              1|         3.08|         1|                 N|          75|          42|           1|       13.5|  0.5|    0.5|         2|           0|                  0.3|        16.8|                   0|   11|\n",
      "|       1| 2020-11-01 00:21:02|  2020-11-01 00:30:15|              1|         1.80|         1|                 N|         137|         234|           1|        8.5|    3|    0.5|         1|           0|                  0.3|        13.3|                 2.5|   11|\n",
      "|       1| 2020-11-01 00:33:42|  2020-11-01 01:01:20|              2|         6.00|         1|                 N|         234|          41|           1|       22.5|    3|    0.5|         5|           0|                  0.3|        31.3|                 2.5|   11|\n",
      "|       1| 2020-11-01 00:17:10|  2020-11-01 00:21:47|              2|         1.10|         1|                 N|         263|         141|           1|          6|    3|    0.5|      1.95|           0|                  0.3|       11.75|                 2.5|   11|\n",
      "|       2| 2020-11-01 00:18:50|  2020-11-01 00:23:27|              3|         1.63|         1|                 N|          48|         238|           1|        6.5|  0.5|    0.5|      1.03|           0|                  0.3|       11.33|                 2.5|   11|\n",
      "|       1| 2020-11-01 00:02:40|  2020-11-01 00:09:04|              1|         1.70|         1|                 N|         262|         237|           1|        7.5|    3|    0.5|       1.5|           0|                  0.3|        12.8|                 2.5|   11|\n",
      "|       1| 2020-11-01 00:22:08|  2020-11-01 00:29:28|              1|         2.70|         1|                 N|         140|          74|           1|        9.5|    3|    0.5|       1.7|           0|                  0.3|          15|                 2.5|   11|\n",
      "|       1| 2020-11-01 00:42:40|  2020-11-01 00:45:52|              1|          .40|         1|                 N|         229|         229|           1|          4|    3|    0.5|      1.95|           0|                  0.3|        9.75|                 2.5|   11|\n",
      "|       1| 2020-11-01 00:56:44|  2020-11-01 01:00:31|              1|         1.10|         1|                 N|          79|         170|           1|        5.5|    3|    0.5|         1|           0|                  0.3|        10.3|                 2.5|   11|\n",
      "|       1| 2020-11-01 00:27:14|  2020-11-01 00:31:14|              2|          .70|         1|                 N|         186|          48|           2|          5|    3|    0.5|         0|           0|                  0.3|         8.8|                 2.5|   11|\n",
      "|       1| 2020-11-01 00:51:39|  2020-11-01 00:58:29|              1|         1.70|         1|                 N|         246|          48|           1|        7.5|    3|    0.5|      2.25|           0|                  0.3|       13.55|                 2.5|   11|\n",
      "+--------+--------------------+---------------------+---------------+-------------+----------+------------------+------------+------------+------------+-----------+-----+-------+----------+------------+---------------------+------------+--------------------+-----+\n",
      "only showing top 20 rows\n",
      "\n",
      "+-----+\n",
      "|Month|\n",
      "+-----+\n",
      "|   11|\n",
      "|   11|\n",
      "|   11|\n",
      "|   11|\n",
      "|   11|\n",
      "|   11|\n",
      "|   10|\n",
      "|   11|\n",
      "|   11|\n",
      "|   11|\n",
      "|   11|\n",
      "|   11|\n",
      "|   11|\n",
      "|   11|\n",
      "|   11|\n",
      "|   11|\n",
      "|   11|\n",
      "|   11|\n",
      "|   11|\n",
      "|   11|\n",
      "+-----+\n",
      "only showing top 20 rows\n",
      "\n"
     ]
    }
   ],
   "source": [
    "import pyspark.sql.functions as F\n",
    "from pyspark.sql.types import *\n",
    "\n",
    "#Get yellow taxis trip data from 2020\n",
    "taxis_trips = spark.read.csv('data/tripdata/', header=True)\n",
    "\n",
    "def get_month(value):\n",
    "  return value.split(\"-\")[1]\n",
    "    \n",
    "    \n",
    "#Convert to a UDF Function (parameters: the function and its return type)\n",
    "udf_set_month = F.udf(get_month, StringType())\n",
    "\n",
    "#Add Month column to the dataset\n",
    "trips = taxis_trips.withColumn(\"Month\", udf_set_month(\"tpep_pickup_datetime\"))\n",
    "\n",
    "trips.show()\n",
    "trips.select(trips.Month).show()"
   ]
  },
  {
   "cell_type": "code",
   "execution_count": 5,
   "id": "28039ab6",
   "metadata": {},
   "outputs": [
    {
     "name": "stdout",
     "output_type": "stream",
     "text": [
      "+--------+--------------------+---------------------+---------------+-------------+----------+------------------+------------+------------+------------+-----------+-----+-------+----------+------------+---------------------+------------+--------------------+-----+----------+---------+--------------------+------------+\n",
      "|VendorID|tpep_pickup_datetime|tpep_dropoff_datetime|passenger_count|trip_distance|RatecodeID|store_and_fwd_flag|PULocationID|DOLocationID|payment_type|fare_amount|extra|mta_tax|tip_amount|tolls_amount|improvement_surcharge|total_amount|congestion_surcharge|Month|LocationID|  Borough|                Zone|service_zone|\n",
      "+--------+--------------------+---------------------+---------------+-------------+----------+------------------+------------+------------+------------+-----------+-----+-------+----------+------------+---------------------+------------+--------------------+-----+----------+---------+--------------------+------------+\n",
      "|       1| 2020-11-01 00:37:37|  2020-11-01 00:51:45|              1|         1.80|         1|                 N|         246|         137|           1|         10|    3|    0.5|       4.1|           0|                  0.3|        17.9|                 2.5|   11|       246|Manhattan|West Chelsea/Huds...| Yellow Zone|\n",
      "|       1| 2020-11-01 00:17:41|  2020-11-01 00:32:22|              2|         2.80|         1|                 Y|         229|           4|           2|       11.5|    3|    0.5|         0|           0|                  0.3|        15.3|                 2.5|   11|       229|Manhattan|Sutton Place/Turt...| Yellow Zone|\n",
      "|       1| 2020-11-01 00:42:29|  2020-11-01 01:09:08|              2|         8.10|         1|                 N|         144|          83|           1|         27|    3|    0.5|         2|           0|                  0.3|        32.8|                 2.5|   11|       144|Manhattan| Little Italy/NoLiTa| Yellow Zone|\n",
      "|       2| 2020-11-01 00:28:59|  2020-11-02 00:00:00|              1|         6.38|         1|                 N|         132|         205|           2|         22|  0.5|    0.5|         0|           0|                  0.3|        23.3|                   0|   11|       132|   Queens|         JFK Airport|    Airports|\n",
      "|       2| 2020-11-01 00:13:26|  2020-11-01 00:22:59|              1|         1.96|         1|                 N|         166|          42|           2|          9|  0.5|    0.5|         0|           0|                  0.3|        10.3|                   0|   11|       166|Manhattan| Morningside Heights|   Boro Zone|\n",
      "|       2| 2020-11-01 00:09:36|  2020-11-01 00:20:55|              1|         2.59|         1|                 N|          48|         140|           1|       10.5|  0.5|    0.5|       1.7|           0|                  0.3|          16|                 2.5|   11|        48|Manhattan|        Clinton East| Yellow Zone|\n",
      "|       2| 2020-10-31 23:57:50|  2020-11-01 00:28:08|              1|        18.86|         2|                 N|         132|          75|           1|         52|    0|    0.5|     10.61|        6.12|                  0.3|       69.53|                   0|   10|       132|   Queens|         JFK Airport|    Airports|\n",
      "|       2| 2020-11-01 00:32:28|  2020-11-01 00:47:34|              1|         5.44|         1|                 N|         236|          83|           2|         17|  0.5|    0.5|         0|           0|                  0.3|        20.8|                 2.5|   11|       236|Manhattan|Upper East Side N...| Yellow Zone|\n",
      "|       2| 2020-11-01 00:11:49|  2020-11-01 00:16:36|              1|          .46|         1|                 N|          75|          75|           2|          5|  0.5|    0.5|         0|           0|                  0.3|         6.3|                   0|   11|        75|Manhattan|   East Harlem South|   Boro Zone|\n",
      "|       2| 2020-11-01 00:41:32|  2020-11-01 00:58:10|              1|         3.08|         1|                 N|          75|          42|           1|       13.5|  0.5|    0.5|         2|           0|                  0.3|        16.8|                   0|   11|        75|Manhattan|   East Harlem South|   Boro Zone|\n",
      "|       1| 2020-11-01 00:21:02|  2020-11-01 00:30:15|              1|         1.80|         1|                 N|         137|         234|           1|        8.5|    3|    0.5|         1|           0|                  0.3|        13.3|                 2.5|   11|       137|Manhattan|            Kips Bay| Yellow Zone|\n",
      "|       1| 2020-11-01 00:33:42|  2020-11-01 01:01:20|              2|         6.00|         1|                 N|         234|          41|           1|       22.5|    3|    0.5|         5|           0|                  0.3|        31.3|                 2.5|   11|       234|Manhattan|            Union Sq| Yellow Zone|\n",
      "|       1| 2020-11-01 00:17:10|  2020-11-01 00:21:47|              2|         1.10|         1|                 N|         263|         141|           1|          6|    3|    0.5|      1.95|           0|                  0.3|       11.75|                 2.5|   11|       263|Manhattan|      Yorkville West| Yellow Zone|\n",
      "|       2| 2020-11-01 00:18:50|  2020-11-01 00:23:27|              3|         1.63|         1|                 N|          48|         238|           1|        6.5|  0.5|    0.5|      1.03|           0|                  0.3|       11.33|                 2.5|   11|        48|Manhattan|        Clinton East| Yellow Zone|\n",
      "|       1| 2020-11-01 00:02:40|  2020-11-01 00:09:04|              1|         1.70|         1|                 N|         262|         237|           1|        7.5|    3|    0.5|       1.5|           0|                  0.3|        12.8|                 2.5|   11|       262|Manhattan|      Yorkville East| Yellow Zone|\n",
      "|       1| 2020-11-01 00:22:08|  2020-11-01 00:29:28|              1|         2.70|         1|                 N|         140|          74|           1|        9.5|    3|    0.5|       1.7|           0|                  0.3|          15|                 2.5|   11|       140|Manhattan|     Lenox Hill East| Yellow Zone|\n",
      "|       1| 2020-11-01 00:42:40|  2020-11-01 00:45:52|              1|          .40|         1|                 N|         229|         229|           1|          4|    3|    0.5|      1.95|           0|                  0.3|        9.75|                 2.5|   11|       229|Manhattan|Sutton Place/Turt...| Yellow Zone|\n",
      "|       1| 2020-11-01 00:56:44|  2020-11-01 01:00:31|              1|         1.10|         1|                 N|          79|         170|           1|        5.5|    3|    0.5|         1|           0|                  0.3|        10.3|                 2.5|   11|        79|Manhattan|        East Village| Yellow Zone|\n",
      "|       1| 2020-11-01 00:27:14|  2020-11-01 00:31:14|              2|          .70|         1|                 N|         186|          48|           2|          5|    3|    0.5|         0|           0|                  0.3|         8.8|                 2.5|   11|       186|Manhattan|Penn Station/Madi...| Yellow Zone|\n",
      "|       1| 2020-11-01 00:51:39|  2020-11-01 00:58:29|              1|         1.70|         1|                 N|         246|          48|           1|        7.5|    3|    0.5|      2.25|           0|                  0.3|       13.55|                 2.5|   11|       246|Manhattan|West Chelsea/Huds...| Yellow Zone|\n",
      "+--------+--------------------+---------------------+---------------+-------------+----------+------------------+------------+------------+------------+-----------+-----+-------+----------+------------+---------------------+------------+--------------------+-----+----------+---------+--------------------+------------+\n",
      "only showing top 20 rows\n",
      "\n"
     ]
    }
   ],
   "source": [
    "#Join trip info with borough data\n",
    "borough_trips = trips.join(borough_data, trips.PULocationID == borough_data.LocationID)\n",
    "borough_trips.show()"
   ]
  },
  {
   "cell_type": "markdown",
   "id": "13fabab0",
   "metadata": {},
   "source": [
    "# Período do ano em que os táxis são mais utilizados\n",
    "## Critério: número de viagens"
   ]
  },
  {
   "cell_type": "code",
   "execution_count": 6,
   "id": "6f9f8365",
   "metadata": {},
   "outputs": [
    {
     "name": "stdout",
     "output_type": "stream",
     "text": [
      "+-----+-------+\n",
      "|Month|  count|\n",
      "+-----+-------+\n",
      "|   04| 237886|\n",
      "|   05| 348370|\n",
      "|   06| 549779|\n",
      "|   07| 800430|\n",
      "|   08|1007282|\n",
      "|   09|1340892|\n",
      "|   12|1462074|\n",
      "|   11|1508900|\n",
      "|   10|1681266|\n",
      "|   03|3006942|\n",
      "|   02|6299480|\n",
      "|   01|6405198|\n",
      "+-----+-------+\n",
      "\n"
     ]
    }
   ],
   "source": [
    "#Group the dataset by month, count the records and order by the count column\n",
    "borough_trips.groupBy(\"Month\").count().orderBy(\"count\").show()"
   ]
  },
  {
   "cell_type": "markdown",
   "id": "e9ce3576",
   "metadata": {},
   "source": [
    "### Os táxis são mais utilizados em janeiro (6405198 viagens)"
   ]
  },
  {
   "cell_type": "markdown",
   "id": "047aa0c8",
   "metadata": {},
   "source": [
    "## Critério: quantidade de passageiros"
   ]
  },
  {
   "cell_type": "code",
   "execution_count": 7,
   "id": "fbc4bd75",
   "metadata": {},
   "outputs": [
    {
     "name": "stdout",
     "output_type": "stream",
     "text": [
      "+-----+----------+\n",
      "|Month|Passengers|\n",
      "+-----+----------+\n",
      "|   04|    283231|\n",
      "|   05|    380451|\n",
      "|   06|    676814|\n",
      "|   07|   1016698|\n",
      "|   08|   1317999|\n",
      "|   09|   1775148|\n",
      "|   12|   1934072|\n",
      "|   11|   1995476|\n",
      "|   10|   2247303|\n",
      "|   03|   4357543|\n",
      "|   02|   9403624|\n",
      "|   01|   9606865|\n",
      "+-----+----------+\n",
      "\n"
     ]
    }
   ],
   "source": [
    "#Casting passenger_count to Integer, since it is string\n",
    "new_df = borough_trips.withColumn(\"passenger_count\", borough_trips.passenger_count.cast(IntegerType()))\n",
    "\n",
    "#Grouping by month and summing the number os passengers\n",
    "new_df.groupBy(\"Month\").agg(F.sum('passenger_count').alias('Passengers')).orderBy(\"Passengers\").show()"
   ]
  },
  {
   "cell_type": "markdown",
   "id": "0baaf425",
   "metadata": {},
   "source": [
    "### O mês de janeiro é o que tem mais passageiros: 9606865"
   ]
  },
  {
   "cell_type": "code",
   "execution_count": null,
   "id": "70c3612c",
   "metadata": {},
   "outputs": [],
   "source": []
  },
  {
   "cell_type": "code",
   "execution_count": null,
   "id": "271a90c2",
   "metadata": {},
   "outputs": [],
   "source": []
  }
 ],
 "metadata": {
  "kernelspec": {
   "display_name": "Python 3",
   "language": "python",
   "name": "python3"
  },
  "language_info": {
   "codemirror_mode": {
    "name": "ipython",
    "version": 3
   },
   "file_extension": ".py",
   "mimetype": "text/x-python",
   "name": "python",
   "nbconvert_exporter": "python",
   "pygments_lexer": "ipython3",
   "version": "3.9.4"
  }
 },
 "nbformat": 4,
 "nbformat_minor": 5
}
